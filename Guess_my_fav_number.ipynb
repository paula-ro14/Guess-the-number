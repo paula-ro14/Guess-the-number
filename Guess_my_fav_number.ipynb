{
  "nbformat": 4,
  "nbformat_minor": 0,
  "metadata": {
    "colab": {
      "provenance": []
    },
    "kernelspec": {
      "name": "python3",
      "display_name": "Python 3"
    },
    "language_info": {
      "name": "python"
    }
  },
  "cells": [
    {
      "cell_type": "markdown",
      "source": [
        "Wanna play a game and try to figure my favorite number?"
      ],
      "metadata": {
        "id": "BOQ4wLZeN8li"
      }
    },
    {
      "cell_type": "code",
      "execution_count": 1,
      "metadata": {
        "colab": {
          "base_uri": "https://localhost:8080/"
        },
        "id": "aJpVlqAnN72k",
        "outputId": "f27a79dc-0b2f-4631-9b4d-ff23e79e82d1"
      },
      "outputs": [
        {
          "output_type": "stream",
          "name": "stdout",
          "text": [
            "\n",
            "Guess my favorite number?.\n",
            "Try to guess it in five tries or less\n",
            "Go on, Take a guess! 54\n",
            "Lower...\n",
            "Go on, Take another guess 10\n",
            "Lower...\n",
            "Go on, Take another guess 7\n",
            "Higher...\n",
            "Go on, Take another guess 5\n",
            "Higher...\n",
            "Go on, Take another guess 8\n",
            "Well done you guessed correctly!\n",
            "And it only took you 5 tries!\n",
            "\n"
          ]
        }
      ],
      "source": [
        "#Guess my fav number!\n",
        "\n",
        "print(\"\\nGuess my favorite number?.\")\n",
        "print(\"Try to guess it in five tries or less\")\n",
        "\n",
        "my_number = int(8)\n",
        "guess = int(input(\"Go on, Take a guess! \"))\n",
        "tries = 1\n",
        "\n",
        "while tries <5:\n",
        "\n",
        "  if guess > my_number:\n",
        "    print(\"Lower...\")\n",
        "    guess = int(input(\"Go on, Take another guess \"))\n",
        "    tries += 1\n",
        "  if guess < my_number:\n",
        "    print(\"Higher...\")\n",
        "    guess = int(input(\"Go on, Take another guess \"))\n",
        "    tries += 1\n",
        "  if guess == my_number:\n",
        "    print('Well done you guessed correctly!')\n",
        "    print(\"And it only took you\", tries, \"tries!\\n\")\n",
        "    break\n",
        "\n",
        "  if tries==5:\n",
        "    print(\"You failed to guess! The number is\", my_number,\"!\" )\n",
        "    break\n"
      ]
    }
  ]
}